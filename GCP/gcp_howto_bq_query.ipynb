{
 "cells": [
  {
   "cell_type": "code",
   "execution_count": 1,
   "id": "48d7bd3c-bb9d-4ca6-a706-b68b9c6e2957",
   "metadata": {},
   "outputs": [],
   "source": [
    "#meta 5/30/2023 HOW TO GCP - BigQuery \n",
    "\n",
    "#References\n",
    "#Using BigQuery with Python\n",
    "# refer to https://codelabs.developers.google.com/codelabs/cloud-bigquery-python#6\n",
    "\n",
    "#my\n",
    "# refer to project HackTime_20xx `gcp_howto_bq_query.ipynb`"
   ]
  },
  {
   "cell_type": "markdown",
   "id": "7e42125c-9d08-4315-9a4b-3412fe6ef043",
   "metadata": {},
   "source": [
    "# Using BigQuery with Python\n",
    "\n",
    "## 0. Example w/ Public Dataset\n",
    "Src: refer to https://codelabs.developers.google.com/codelabs/cloud-bigquery-python#6\n",
    "\n",
    "## 7. Query the works of Shakespeare\n",
    "A public dataset is any dataset that's stored in BigQuery and made available to the general public. There are many other public datasets available for you to query. While some datasets are hosted by Google, most are hosted by third parties. For more info see the [Public Datasets](https://cloud.google.com/bigquery/public-data/) page.\n",
    "\n",
    "In addition to public datasets, BigQuery provides a limited number of [sample tables](https://cloud.google.com/bigquery/public-data#sample_tables) that you can query. These tables are contained in the `bigquery-public-data:samples` dataset. The `shakespeare` table in the `samples` dataset contains a word index of the works of Shakespeare. It gives the number of times each word appears in each corpus.\n",
    "\n",
    "In this step, you will query the `shakespeare` table."
   ]
  },
  {
   "cell_type": "code",
   "execution_count": 2,
   "id": "a5afb6d7-42fc-4662-90ff-4cf82c954dfe",
   "metadata": {},
   "outputs": [
    {
     "name": "stdout",
     "output_type": "stream",
     "text": [
      "hamlet               | 5318\n",
      "kinghenryv           | 5104\n",
      "cymbeline            | 4875\n",
      "troilusandcressida   | 4795\n",
      "kinglear             | 4784\n",
      "kingrichardiii       | 4713\n",
      "2kinghenryvi         | 4683\n",
      "coriolanus           | 4653\n",
      "2kinghenryiv         | 4605\n",
      "antonyandcleopatra   | 4582\n"
     ]
    }
   ],
   "source": [
    "from google.cloud import bigquery\n",
    "\n",
    "client = bigquery.Client()\n",
    "\n",
    "query = \"\"\"\n",
    "    SELECT corpus AS title, COUNT(word) AS unique_words\n",
    "    FROM `bigquery-public-data.samples.shakespeare`\n",
    "    GROUP BY title\n",
    "    ORDER BY unique_words\n",
    "    DESC LIMIT 10\n",
    "\"\"\"\n",
    "results = client.query(query)\n",
    "\n",
    "for row in results:\n",
    "    title = row['title']\n",
    "    unique_words = row['unique_words']\n",
    "    print(f'{title:<20} | {unique_words}')"
   ]
  },
  {
   "cell_type": "markdown",
   "id": "4dd637a9-f297-401c-8e9e-fb3e965e87c4",
   "metadata": {},
   "source": [
    "## 1. Examples w/ Public Dataset(s)\n",
    "Sample chunks  \n",
    "Src: refer to project HackTime_20xx `gcp_howto_bq_query.ipynb`\n",
    "\n",
    "BQ reference: Query syntax  \n",
    "refer to https://cloud.google.com/bigquery/docs/reference/standard-sql/query-syntax\n",
    "\n",
    "### 1.2 BQ Query Inline\n",
    "Visualizing BigQuery data in a Jupyter notebook  \n",
    "refer to https://cloud.google.com/bigquery/docs/visualize-jupyter"
   ]
  },
  {
   "cell_type": "code",
   "execution_count": 3,
   "id": "a27b386c-7392-4bc9-bd87-d0a08f02e496",
   "metadata": {},
   "outputs": [
    {
     "name": "stderr",
     "output_type": "stream",
     "text": [
      "Query complete after 0.01s: 100%|██████████| 1/1 [00:00<00:00, 654.24query/s] \n",
      "Downloading: 100%|██████████| 1/1 [00:01<00:00,  1.26s/rows]\n"
     ]
    },
    {
     "data": {
      "text/html": [
       "<div>\n",
       "<style scoped>\n",
       "    .dataframe tbody tr th:only-of-type {\n",
       "        vertical-align: middle;\n",
       "    }\n",
       "\n",
       "    .dataframe tbody tr th {\n",
       "        vertical-align: top;\n",
       "    }\n",
       "\n",
       "    .dataframe thead th {\n",
       "        text-align: right;\n",
       "    }\n",
       "</style>\n",
       "<table border=\"1\" class=\"dataframe\">\n",
       "  <thead>\n",
       "    <tr style=\"text-align: right;\">\n",
       "      <th></th>\n",
       "      <th>f0_</th>\n",
       "    </tr>\n",
       "  </thead>\n",
       "  <tbody>\n",
       "    <tr>\n",
       "      <th>0</th>\n",
       "      <td>164656</td>\n",
       "    </tr>\n",
       "  </tbody>\n",
       "</table>\n",
       "</div>"
      ],
      "text/plain": [
       "      f0_\n",
       "0  164656"
      ]
     },
     "execution_count": 3,
     "metadata": {},
     "output_type": "execute_result"
    }
   ],
   "source": [
    "%%bigquery\n",
    "SELECT COUNT(*) FROM `bigquery-public-data`.samples.shakespeare"
   ]
  },
  {
   "cell_type": "code",
   "execution_count": 4,
   "id": "2ebc2f90-f84e-4f91-90dc-8f06820cdba4",
   "metadata": {},
   "outputs": [
    {
     "name": "stderr",
     "output_type": "stream",
     "text": [
      "Query complete after 0.00s: 100%|██████████| 1/1 [00:00<00:00, 623.60query/s] \n",
      "Downloading: 100%|██████████| 5/5 [00:01<00:00,  4.30rows/s]\n"
     ]
    },
    {
     "data": {
      "text/html": [
       "<div>\n",
       "<style scoped>\n",
       "    .dataframe tbody tr th:only-of-type {\n",
       "        vertical-align: middle;\n",
       "    }\n",
       "\n",
       "    .dataframe tbody tr th {\n",
       "        vertical-align: top;\n",
       "    }\n",
       "\n",
       "    .dataframe thead th {\n",
       "        text-align: right;\n",
       "    }\n",
       "</style>\n",
       "<table border=\"1\" class=\"dataframe\">\n",
       "  <thead>\n",
       "    <tr style=\"text-align: right;\">\n",
       "      <th></th>\n",
       "      <th>word</th>\n",
       "      <th>word_count</th>\n",
       "      <th>corpus</th>\n",
       "      <th>corpus_date</th>\n",
       "    </tr>\n",
       "  </thead>\n",
       "  <tbody>\n",
       "    <tr>\n",
       "      <th>0</th>\n",
       "      <td>LVII</td>\n",
       "      <td>1</td>\n",
       "      <td>sonnets</td>\n",
       "      <td>0</td>\n",
       "    </tr>\n",
       "    <tr>\n",
       "      <th>1</th>\n",
       "      <td>augurs</td>\n",
       "      <td>1</td>\n",
       "      <td>sonnets</td>\n",
       "      <td>0</td>\n",
       "    </tr>\n",
       "    <tr>\n",
       "      <th>2</th>\n",
       "      <td>dimm'd</td>\n",
       "      <td>1</td>\n",
       "      <td>sonnets</td>\n",
       "      <td>0</td>\n",
       "    </tr>\n",
       "    <tr>\n",
       "      <th>3</th>\n",
       "      <td>plagues</td>\n",
       "      <td>1</td>\n",
       "      <td>sonnets</td>\n",
       "      <td>0</td>\n",
       "    </tr>\n",
       "    <tr>\n",
       "      <th>4</th>\n",
       "      <td>treason</td>\n",
       "      <td>1</td>\n",
       "      <td>sonnets</td>\n",
       "      <td>0</td>\n",
       "    </tr>\n",
       "  </tbody>\n",
       "</table>\n",
       "</div>"
      ],
      "text/plain": [
       "      word  word_count   corpus  corpus_date\n",
       "0     LVII           1  sonnets            0\n",
       "1   augurs           1  sonnets            0\n",
       "2   dimm'd           1  sonnets            0\n",
       "3  plagues           1  sonnets            0\n",
       "4  treason           1  sonnets            0"
      ]
     },
     "execution_count": 4,
     "metadata": {},
     "output_type": "execute_result"
    }
   ],
   "source": [
    "%%bigquery\n",
    "SELECT * FROM `bigquery-public-data`.samples.shakespeare LIMIT 5"
   ]
  },
  {
   "cell_type": "code",
   "execution_count": 5,
   "id": "d325a7a9-1a88-4159-8bb4-44d7adbe99f9",
   "metadata": {},
   "outputs": [
    {
     "name": "stderr",
     "output_type": "stream",
     "text": [
      "Query complete after 0.00s: 100%|██████████| 1/1 [00:00<00:00, 601.42query/s] \n",
      "Downloading: 100%|██████████| 10/10 [00:01<00:00,  8.85rows/s]\n"
     ]
    },
    {
     "data": {
      "text/html": [
       "<div>\n",
       "<style scoped>\n",
       "    .dataframe tbody tr th:only-of-type {\n",
       "        vertical-align: middle;\n",
       "    }\n",
       "\n",
       "    .dataframe tbody tr th {\n",
       "        vertical-align: top;\n",
       "    }\n",
       "\n",
       "    .dataframe thead th {\n",
       "        text-align: right;\n",
       "    }\n",
       "</style>\n",
       "<table border=\"1\" class=\"dataframe\">\n",
       "  <thead>\n",
       "    <tr style=\"text-align: right;\">\n",
       "      <th></th>\n",
       "      <th>corpus</th>\n",
       "      <th>COUNTS</th>\n",
       "    </tr>\n",
       "  </thead>\n",
       "  <tbody>\n",
       "    <tr>\n",
       "      <th>0</th>\n",
       "      <td>sonnets</td>\n",
       "      <td>3677</td>\n",
       "    </tr>\n",
       "    <tr>\n",
       "      <th>1</th>\n",
       "      <td>various</td>\n",
       "      <td>1349</td>\n",
       "    </tr>\n",
       "    <tr>\n",
       "      <th>2</th>\n",
       "      <td>1kinghenryvi</td>\n",
       "      <td>4441</td>\n",
       "    </tr>\n",
       "    <tr>\n",
       "      <th>3</th>\n",
       "      <td>2kinghenryvi</td>\n",
       "      <td>4683</td>\n",
       "    </tr>\n",
       "    <tr>\n",
       "      <th>4</th>\n",
       "      <td>3kinghenryvi</td>\n",
       "      <td>4076</td>\n",
       "    </tr>\n",
       "    <tr>\n",
       "      <th>5</th>\n",
       "      <td>comedyoferrors</td>\n",
       "      <td>2870</td>\n",
       "    </tr>\n",
       "    <tr>\n",
       "      <th>6</th>\n",
       "      <td>kingrichardiii</td>\n",
       "      <td>4713</td>\n",
       "    </tr>\n",
       "    <tr>\n",
       "      <th>7</th>\n",
       "      <td>titusandronicus</td>\n",
       "      <td>3869</td>\n",
       "    </tr>\n",
       "    <tr>\n",
       "      <th>8</th>\n",
       "      <td>tamingoftheshrew</td>\n",
       "      <td>3699</td>\n",
       "    </tr>\n",
       "    <tr>\n",
       "      <th>9</th>\n",
       "      <td>loveslabourslost</td>\n",
       "      <td>4236</td>\n",
       "    </tr>\n",
       "  </tbody>\n",
       "</table>\n",
       "</div>"
      ],
      "text/plain": [
       "             corpus  COUNTS\n",
       "0           sonnets    3677\n",
       "1           various    1349\n",
       "2      1kinghenryvi    4441\n",
       "3      2kinghenryvi    4683\n",
       "4      3kinghenryvi    4076\n",
       "5    comedyoferrors    2870\n",
       "6    kingrichardiii    4713\n",
       "7   titusandronicus    3869\n",
       "8  tamingoftheshrew    3699\n",
       "9  loveslabourslost    4236"
      ]
     },
     "execution_count": 5,
     "metadata": {},
     "output_type": "execute_result"
    }
   ],
   "source": [
    "%%bigquery\n",
    "SELECT corpus, COUNT(corpus) as COUNTS FROM `bigquery-public-data`.samples.shakespeare GROUP BY corpus LIMIT 10"
   ]
  },
  {
   "cell_type": "code",
   "execution_count": 6,
   "id": "197fb0e6-eef9-4fb5-a949-248cef57794f",
   "metadata": {},
   "outputs": [
    {
     "name": "stderr",
     "output_type": "stream",
     "text": [
      "Query complete after 0.00s: 100%|██████████| 1/1 [00:00<00:00, 827.93query/s] \n",
      "Downloading: 100%|██████████| 10/10 [00:00<00:00, 10.22rows/s]\n"
     ]
    }
   ],
   "source": [
    "%%bigquery example\n",
    "SELECT corpus, COUNT(corpus) as COUNTS FROM `bigquery-public-data`.samples.shakespeare GROUP BY corpus LIMIT 10"
   ]
  },
  {
   "cell_type": "code",
   "execution_count": 7,
   "id": "a47aa9f3-38c4-4fd7-8f0c-a7f64b593294",
   "metadata": {},
   "outputs": [
    {
     "data": {
      "image/png": "[encoded data removed]",
      "text/plain": [
       "<Figure size 640x480 with 1 Axes>"
      ]
     },
     "metadata": {},
     "output_type": "display_data"
    }
   ],
   "source": [
    "example.plot(kind=\"bar\", x=\"corpus\", y=\"COUNTS\");"
   ]
  },
  {
   "cell_type": "markdown",
   "id": "6b192edd-63ff-4685-bef0-19c665b88119",
   "metadata": {},
   "source": [
    "### 1.3 Another Vis Example\n",
    "Refer to https://cloud.google.com/bigquery/docs/visualize-jupyter"
   ]
  },
  {
   "cell_type": "code",
   "execution_count": 8,
   "id": "e3f19e59-efda-4c98-aa3c-280041c8aef9",
   "metadata": {},
   "outputs": [
    {
     "name": "stderr",
     "output_type": "stream",
     "text": [
      "Query complete after 0.00s: 100%|██████████| 1/1 [00:00<00:00, 591.83query/s] \n",
      "Downloading: 100%|██████████| 7/7 [00:01<00:00,  5.77rows/s]\n"
     ]
    },
    {
     "data": {
      "text/html": [
       "<div>\n",
       "<style scoped>\n",
       "    .dataframe tbody tr th:only-of-type {\n",
       "        vertical-align: middle;\n",
       "    }\n",
       "\n",
       "    .dataframe tbody tr th {\n",
       "        vertical-align: top;\n",
       "    }\n",
       "\n",
       "    .dataframe thead th {\n",
       "        text-align: right;\n",
       "    }\n",
       "</style>\n",
       "<table border=\"1\" class=\"dataframe\">\n",
       "  <thead>\n",
       "    <tr style=\"text-align: right;\">\n",
       "      <th></th>\n",
       "      <th>wday</th>\n",
       "      <th>male_births</th>\n",
       "      <th>female_births</th>\n",
       "    </tr>\n",
       "  </thead>\n",
       "  <tbody>\n",
       "    <tr>\n",
       "      <th>0</th>\n",
       "      <td>1</td>\n",
       "      <td>4293575</td>\n",
       "      <td>4093357</td>\n",
       "    </tr>\n",
       "    <tr>\n",
       "      <th>1</th>\n",
       "      <td>2</td>\n",
       "      <td>6095840</td>\n",
       "      <td>5831111</td>\n",
       "    </tr>\n",
       "    <tr>\n",
       "      <th>2</th>\n",
       "      <td>3</td>\n",
       "      <td>6727217</td>\n",
       "      <td>6412155</td>\n",
       "    </tr>\n",
       "    <tr>\n",
       "      <th>3</th>\n",
       "      <td>4</td>\n",
       "      <td>6618729</td>\n",
       "      <td>6307782</td>\n",
       "    </tr>\n",
       "    <tr>\n",
       "      <th>4</th>\n",
       "      <td>5</td>\n",
       "      <td>6583015</td>\n",
       "      <td>6284434</td>\n",
       "    </tr>\n",
       "    <tr>\n",
       "      <th>5</th>\n",
       "      <td>6</td>\n",
       "      <td>6518636</td>\n",
       "      <td>6223584</td>\n",
       "    </tr>\n",
       "    <tr>\n",
       "      <th>6</th>\n",
       "      <td>7</td>\n",
       "      <td>4761950</td>\n",
       "      <td>4530052</td>\n",
       "    </tr>\n",
       "  </tbody>\n",
       "</table>\n",
       "</div>"
      ],
      "text/plain": [
       "   wday  male_births  female_births\n",
       "0     1      4293575        4093357\n",
       "1     2      6095840        5831111\n",
       "2     3      6727217        6412155\n",
       "3     4      6618729        6307782\n",
       "4     5      6583015        6284434\n",
       "5     6      6518636        6223584\n",
       "6     7      4761950        4530052"
      ]
     },
     "execution_count": 8,
     "metadata": {},
     "output_type": "execute_result"
    }
   ],
   "source": [
    "%%bigquery\n",
    "SELECT\n",
    "    wday,\n",
    "    SUM(CASE WHEN is_male THEN 1 ELSE 0 END) AS male_births,\n",
    "    SUM(CASE WHEN is_male THEN 0 ELSE 1 END) AS female_births\n",
    "FROM `bigquery-public-data.samples.natality`\n",
    "WHERE wday IS NOT NULL\n",
    "GROUP BY wday\n",
    "ORDER BY wday ASC"
   ]
  },
  {
   "cell_type": "code",
   "execution_count": 9,
   "id": "a16ca1d8-69fe-4a4a-a00c-f0a5fdbac61e",
   "metadata": {},
   "outputs": [
    {
     "name": "stderr",
     "output_type": "stream",
     "text": [
      "Query complete after 0.00s: 100%|██████████| 1/1 [00:00<00:00, 616.54query/s] \n",
      "Downloading: 100%|██████████| 7/7 [00:00<00:00,  7.41rows/s]\n"
     ]
    }
   ],
   "source": [
    "%%bigquery births_by_weekday\n",
    "SELECT\n",
    "    wday,\n",
    "    SUM(CASE WHEN is_male THEN 1 ELSE 0 END) AS male_births,\n",
    "    SUM(CASE WHEN is_male THEN 0 ELSE 1 END) AS female_births\n",
    "FROM `bigquery-public-data.samples.natality`\n",
    "WHERE wday IS NOT NULL\n",
    "GROUP BY wday\n",
    "ORDER BY wday ASC"
   ]
  },
  {
   "cell_type": "code",
   "execution_count": 10,
   "id": "9056eff3-b484-491d-a552-8651b801b93f",
   "metadata": {},
   "outputs": [
    {
     "data": {
      "image/png": "[encoded data removed]",
      "text/plain": [
       "<Figure size 640x480 with 1 Axes>"
      ]
     },
     "metadata": {},
     "output_type": "display_data"
    }
   ],
   "source": [
    "births_by_weekday.plot(x=\"wday\");"
   ]
  },
  {
   "cell_type": "code",
   "execution_count": 11,
   "id": "829e4b86-ce8e-42c4-b51b-c9e24d55de51",
   "metadata": {},
   "outputs": [
    {
     "ename": "NameError",
     "evalue": "name 'mystop' is not defined",
     "output_type": "error",
     "traceback": [
      "\u001b[0;31m---------------------------------------------------------------------------\u001b[0m",
      "\u001b[0;31mNameError\u001b[0m                                 Traceback (most recent call last)",
      "\u001b[0;32m/tmp/ipykernel_1/453815950.py\u001b[0m in \u001b[0;36m<module>\u001b[0;34m\u001b[0m\n\u001b[0;32m----> 1\u001b[0;31m \u001b[0mmystop\u001b[0m\u001b[0;34m\u001b[0m\u001b[0;34m\u001b[0m\u001b[0m\n\u001b[0m",
      "\u001b[0;31mNameError\u001b[0m: name 'mystop' is not defined"
     ]
    }
   ],
   "source": [
    "mystop"
   ]
  },
  {
   "cell_type": "markdown",
   "id": "7e7da3d0-30f7-403a-94fa-3d6ad42a158c",
   "metadata": {},
   "source": [
    "## 2. Our Dataset\n",
    "Sample code  (won't run without a real project  \n",
    "Src: refer to project HackTime_20xx `gcp_howto_bq_query.ipynb` \n",
    "\n",
    "Preloaded table `project:ds_name.t_name`"
   ]
  },
  {
   "cell_type": "code",
   "execution_count": null,
   "id": "6f6a2df5-56cb-4f76-9e0f-dd540966b47f",
   "metadata": {},
   "outputs": [],
   "source": [
    "# DEFAULT TO CURRENT PROJECT_ID\n",
    "PROJECT_ID = \"[your-project-id]\"  # @param {type:\"string\"}\n",
    "\n",
    "if PROJECT_ID == \"\" or PROJECT_ID is None or PROJECT_ID == \"[your-project-id]\":\n",
    "    # Get your GCP project id from gcloud\n",
    "    shell_output = ! gcloud config list --format 'value(core.project)' 2>/dev/null\n",
    "    PROJECT_ID = shell_output[0]\n",
    "    print(\"Project ID:\", PROJECT_ID)\n"
   ]
  },
  {
   "cell_type": "code",
   "execution_count": null,
   "id": "e23ae441-c1fd-4734-b51d-48b7f24d8d34",
   "metadata": {},
   "outputs": [],
   "source": [
    "DATASET_NAME = 'ds_name'\n",
    "TABLE_NAME = f'{DATASET_NAME}.t_name'\n",
    "DATASET_URI = f'`{PROJECT_ID}`.{TABLE_NAME}' #$acdelta was f'{PROJECT_ID}:{TABLE_NAME}'\n",
    "DATASET_URI"
   ]
  },
  {
   "cell_type": "code",
   "execution_count": null,
   "id": "9d3e48f0-0df6-49ed-a90a-aa581a348d20",
   "metadata": {},
   "outputs": [],
   "source": [
    "#ensured the qry worked before removing real project \n",
    "%%bigquery\n",
    "SELECT * FROM `project_name`.ds_name.dt_name LIMIT 10"
   ]
  },
  {
   "cell_type": "markdown",
   "id": "e6d19d36-eaad-49a3-bbdd-5724d0186ac8",
   "metadata": {},
   "source": [
    "## Xtra"
   ]
  },
  {
   "cell_type": "markdown",
   "id": "afdf0637-057d-4a4b-8073-87b73370bd06",
   "metadata": {},
   "source": [
    "### 1.1 BQ Query with CLI\n",
    "Using the bq command-line tool  \n",
    "refer to https://cloud.google.com/bigquery/docs/bq-command-line-tool"
   ]
  },
  {
   "cell_type": "markdown",
   "id": "4d0870a8-7ce0-4601-bfb1-944b12831851",
   "metadata": {},
   "source": [
    "Previously worked in another project, something has changed  \n",
    "- run in GCP, project: hacktime-year22  \n",
    "- infra: XXX GCP VertexAI managed-notebook-hack##  \n",
    "- env [prebuilt] Python (local): Python 3.7.12  \n",
    "- numpy 1.19.5, pandas 1.3.5, matplotlib 3.5.2  "
   ]
  },
  {
   "cell_type": "code",
   "execution_count": null,
   "id": "a65871cc-e714-4404-8d66-ced86f36d198",
   "metadata": {},
   "outputs": [],
   "source": [
    "! bq query --use_legacy_sql=false \\\n",
    "'SELECT COUNT(*) FROM `bigquery-public-data`.samples.shakespeare'"
   ]
  },
  {
   "cell_type": "code",
   "execution_count": null,
   "id": "4d2e3a98-820e-4cac-a074-3dbdb8d331cc",
   "metadata": {},
   "outputs": [],
   "source": [
    "# VIEW BQ DATASET:`\n",
    "! bq ls --format prettyjson $DATASET_NAME"
   ]
  },
  {
   "cell_type": "code",
   "execution_count": null,
   "id": "8a812bd6-e4af-459b-a4a1-13a9ffdcd307",
   "metadata": {},
   "outputs": [],
   "source": []
  }
 ],
 "metadata": {
  "kernelspec": {
   "display_name": "Python (Local)",
   "language": "python",
   "name": "local-base"
  },
  "language_info": {
   "codemirror_mode": {
    "name": "ipython",
    "version": 3
   },
   "file_extension": ".py",
   "mimetype": "text/x-python",
   "name": "python",
   "nbconvert_exporter": "python",
   "pygments_lexer": "ipython3",
   "version": "3.7.12"
  }
 },
 "nbformat": 4,
 "nbformat_minor": 5
}
