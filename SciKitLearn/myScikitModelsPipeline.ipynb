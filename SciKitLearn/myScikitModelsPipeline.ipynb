{
 "cells": [
  {
   "cell_type": "code",
   "execution_count": 1,
   "metadata": {},
   "outputs": [],
   "source": [
    "# Source: https://cloud.google.com/ai-platform/prediction/docs/exporting-for-prediction\n",
    "# Accessed 2021-01-01\n",
    "#found at https://devopedia.org/machine-learning-model\n",
    "\n",
    "\n",
    "#infra this: myMBpro \n",
    "#      env: base\n",
    "#      confirmed Python 3.10.13\n",
    "#      numpy 1.24.3, scikit-learn  1.2.2, joblib 1.2.0\n",
    "\n",
    "#input: Iris dataset from sklearn  $config\n",
    "#output: persisted models w/ joblib\n",
    "\n",
    "\n",
    "#history\n",
    "#5/31/2024 SKLEARN MODELING\n",
    "#      RF, pipeline, custom pipeline\n",
    "#      'feature_selection' chi2\n",
    "#      ds Iris\n"
   ]
  },
  {
   "cell_type": "code",
   "execution_count": 11,
   "metadata": {},
   "outputs": [],
   "source": [
    "import sys\n",
    "import numpy as np\n",
    "\n",
    "from sklearn import datasets\n",
    "from sklearn.ensemble import RandomForestClassifier\n",
    "\n",
    "import joblib"
   ]
  },
  {
   "cell_type": "code",
   "execution_count": 13,
   "metadata": {},
   "outputs": [
    {
     "name": "stdout",
     "output_type": "stream",
     "text": [
      "3.10.13 (main, Sep 11 2023, 08:39:02) [Clang 14.0.6 ]\n",
      "1.24.3 1.2.0\n"
     ]
    }
   ],
   "source": [
    "#python version $my\n",
    "print(sys.version)\n",
    "print(np.__version__, joblib.__version__)"
   ]
  },
  {
   "cell_type": "markdown",
   "metadata": {},
   "source": [
    "# Exporting models for prediction"
   ]
  },
  {
   "cell_type": "code",
   "execution_count": 2,
   "metadata": {},
   "outputs": [
    {
     "data": {
      "text/plain": [
       "(array([[5.1, 3.5, 1.4, 0.2],\n",
       "        [4.9, 3. , 1.4, 0.2],\n",
       "        [4.7, 3.2, 1.3, 0.2],\n",
       "        [4.6, 3.1, 1.5, 0.2],\n",
       "        [5. , 3.6, 1.4, 0.2]]),\n",
       " array([0, 0, 0, 0, 0]),\n",
       " array([[6.7, 3. , 5.2, 2.3],\n",
       "        [6.3, 2.5, 5. , 1.9],\n",
       "        [6.5, 3. , 5.2, 2. ],\n",
       "        [6.2, 3.4, 5.4, 2.3],\n",
       "        [5.9, 3. , 5.1, 1.8]]),\n",
       " array([2, 2, 2, 2, 2]))"
      ]
     },
     "execution_count": 2,
     "metadata": {},
     "output_type": "execute_result"
    }
   ],
   "source": [
    "#get data\n",
    "iris = datasets.load_iris() #class sklearn.utils._bunch.Bunch\n",
    "\n",
    "#preview\n",
    "iris.data[:5], iris.target[:5], iris.data[-5:], iris.target[-5:] #class numpy.ndarray"
   ]
  },
  {
   "cell_type": "markdown",
   "metadata": {},
   "source": [
    "## SKLearn Classifier"
   ]
  },
  {
   "cell_type": "code",
   "execution_count": 3,
   "metadata": {},
   "outputs": [
    {
     "data": {
      "text/plain": [
       "['clf1.joblib']"
      ]
     },
     "execution_count": 3,
     "metadata": {},
     "output_type": "execute_result"
    }
   ],
   "source": [
    "# ---------------- Save model ----------------\n",
    "clf1 = RandomForestClassifier()\n",
    "clf1.fit(iris.data, iris.target)\n",
    " \n",
    "joblib.dump(clf1, 'clf1.joblib')\n"
   ]
  },
  {
   "cell_type": "code",
   "execution_count": 4,
   "metadata": {},
   "outputs": [
    {
     "data": {
      "text/plain": [
       "array([0, 2])"
      ]
     },
     "execution_count": 4,
     "metadata": {},
     "output_type": "execute_result"
    }
   ],
   "source": [
    "clf1.predict([[5.1, 3.5, 1.4, 0.2],\n",
    "        [6.2, 3.4, 5.4, 2.3]])"
   ]
  },
  {
   "cell_type": "markdown",
   "metadata": {},
   "source": [
    "## SKLearn Classifier Pipeline"
   ]
  },
  {
   "cell_type": "code",
   "execution_count": 5,
   "metadata": {},
   "outputs": [
    {
     "data": {
      "text/plain": [
       "['clf2.joblib']"
      ]
     },
     "execution_count": 5,
     "metadata": {},
     "output_type": "execute_result"
    }
   ],
   "source": [
    "# -------------- Save pipeline ---------------\n",
    "from sklearn.feature_selection import chi2\n",
    "from sklearn.feature_selection import SelectKBest\n",
    "from sklearn.pipeline import Pipeline\n",
    "\n",
    "pipeline = Pipeline([\n",
    "      ('feature_selection', SelectKBest(chi2, k=2)),\n",
    "      ('classification', RandomForestClassifier())\n",
    "    ])\n",
    "pipeline.fit(iris.data, iris.target)\n",
    " \n",
    "joblib.dump(pipeline, 'clf2.joblib')"
   ]
  },
  {
   "cell_type": "code",
   "execution_count": 6,
   "metadata": {},
   "outputs": [
    {
     "data": {
      "text/plain": [
       "array([0, 2])"
      ]
     },
     "execution_count": 6,
     "metadata": {},
     "output_type": "execute_result"
    }
   ],
   "source": [
    "pipeline.predict([[5.1, 3.5, 1.4, 0.2],\n",
    "        [6.2, 3.4, 5.4, 2.3]])"
   ]
  },
  {
   "cell_type": "markdown",
   "metadata": {},
   "source": [
    "## SKLearn Classifier Custome Pipeline"
   ]
  },
  {
   "cell_type": "code",
   "execution_count": 7,
   "metadata": {},
   "outputs": [],
   "source": [
    "#custom my_module.py\n",
    "\n",
    "# from sklearn.base import BaseEstimator\n",
    "# from sklearn.base import TransformerMixin\n",
    "# from sklearn.utils.validation import check_is_fitted\n",
    "\n",
    "# def add_sum(X):\n",
    "#   sums = X.sum(1).reshape((-1,1))\n",
    "#   transformed_X = np.append(X, sums, 1)\n",
    "#   return transformed_X\n",
    "\n",
    "# class MySimpleScaler(BaseEstimator, TransformerMixin):\n",
    "#   def fit(self, X, y=None):\n",
    "#     self.means = np.mean(X, axis=0)\n",
    "#     self.stds = np.std(X, axis=0)\n",
    "#     if not self.stds.all():\n",
    "#       raise ValueError('At least one column has standard deviation of 0.')\n",
    "#     return self\n",
    "\n",
    "#   def transform(self, X):\n",
    "#     check_is_fitted(self, ('means', 'stds'))\n",
    "#     transformed_X = (X - self.means) / self.stds\n",
    "#     return transformed_X"
   ]
  },
  {
   "cell_type": "code",
   "execution_count": 8,
   "metadata": {},
   "outputs": [
    {
     "data": {
      "text/plain": [
       "['model.joblib']"
      ]
     },
     "execution_count": 8,
     "metadata": {},
     "output_type": "execute_result"
    }
   ],
   "source": [
    "import my_module\n",
    "from sklearn.preprocessing import FunctionTransformer\n",
    "\n",
    "iris = datasets.load_iris()\n",
    "pipeline_c = Pipeline([\n",
    "      ('scale_data', my_module.MySimpleScaler()),\n",
    "      ('add_sum_column', FunctionTransformer(my_module.add_sum)),\n",
    "      ('classification', RandomForestClassifier())\n",
    "    ])\n",
    "pipeline_c.fit(iris.data, iris.target)\n",
    "\n",
    "joblib.dump(pipeline_c, 'model.joblib')"
   ]
  },
  {
   "cell_type": "code",
   "execution_count": 9,
   "metadata": {},
   "outputs": [
    {
     "data": {
      "text/plain": [
       "array([0, 2])"
      ]
     },
     "execution_count": 9,
     "metadata": {},
     "output_type": "execute_result"
    }
   ],
   "source": [
    "pipeline_c.predict([[5.1, 3.5, 1.4, 0.2],\n",
    "        [6.2, 3.4, 5.4, 2.3]])"
   ]
  },
  {
   "cell_type": "code",
   "execution_count": null,
   "metadata": {},
   "outputs": [],
   "source": []
  }
 ],
 "metadata": {
  "kernelspec": {
   "display_name": "tc2-venv",
   "language": "python",
   "name": "python3"
  },
  "language_info": {
   "codemirror_mode": {
    "name": "ipython",
    "version": 3
   },
   "file_extension": ".py",
   "mimetype": "text/x-python",
   "name": "python",
   "nbconvert_exporter": "python",
   "pygments_lexer": "ipython3",
   "version": "3.10.13"
  }
 },
 "nbformat": 4,
 "nbformat_minor": 2
}
